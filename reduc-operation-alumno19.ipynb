{
 "cells": [
  {
   "cell_type": "markdown",
   "id": "f942d288-be01-42cd-9b84-83529c6769be",
   "metadata": {},
   "source": [
    "### Reduction operation: the sum of the numbers in the range [0, a)"
   ]
  },
  {
   "cell_type": "code",
   "execution_count": 21,
   "id": "496946fa-2a28-4c1d-8a6a-2ee0b8fd8ced",
   "metadata": {},
   "outputs": [
    {
     "ename": "ValueError",
     "evalue": "invalid literal for int() with base 10: '-f'",
     "output_type": "error",
     "traceback": [
      "\u001b[0;31m---------------------------------------------------------------------------\u001b[0m",
      "\u001b[0;31mValueError\u001b[0m                                Traceback (most recent call last)",
      "Cell \u001b[0;32mIn[21], line 5\u001b[0m\n\u001b[1;32m      2\u001b[0m \u001b[38;5;28;01mimport\u001b[39;00m \u001b[38;5;21;01msys\u001b[39;00m\n\u001b[1;32m      4\u001b[0m \u001b[38;5;66;03m#Main program\u001b[39;00m\n\u001b[0;32m----> 5\u001b[0m N \u001b[38;5;241m=\u001b[39m \u001b[38;5;28;43mint\u001b[39;49m\u001b[43m(\u001b[49m\u001b[43msys\u001b[49m\u001b[38;5;241;43m.\u001b[39;49m\u001b[43margv\u001b[49m\u001b[43m[\u001b[49m\u001b[38;5;241;43m1\u001b[39;49m\u001b[43m]\u001b[49m\u001b[43m)\u001b[49m\n\u001b[1;32m      7\u001b[0m \u001b[38;5;28;01mdef\u001b[39;00m \u001b[38;5;21mreduc_operation\u001b[39m(a):\n\u001b[1;32m      8\u001b[0m     \u001b[38;5;124;03m\"\"\"Compute the sum of the numbers in the range [0, a).\"\"\"\u001b[39;00m\n",
      "\u001b[0;31mValueError\u001b[0m: invalid literal for int() with base 10: '-f'"
     ]
    }
   ],
   "source": [
    "import time\n",
    "import sys\n",
    "\n",
    "#Main program\n",
    "N = int(sys.argv[1])\n",
    "\n",
    "def reduc_operation(a):\n",
    "    \"\"\"Compute the sum of the numbers in the range [0, a).\"\"\"\n",
    "    x = 0\n",
    "    for i in range(a):\n",
    "        x += i\n",
    "    return x\n",
    "\n",
    "# Secuencial\n",
    "\n",
    "initialTime = time.time()\n",
    "suma = reduc_operation(N)\n",
    "finalTime = time.time()\n",
    "\n",
    "print(\"Time taken by reduction operation:\", (finalTime - initialTime), \"seconds\")\n",
    "\n",
    "# Utilizando las operaciones mágicas de ipython\n",
    "%timeit -r 2 reduc_operation(N)\n",
    "\n",
    "print(f\"\\n \\t Computing the sum of numbers in the range [0, N): {suma}\\n\")"
   ]
  },
  {
   "cell_type": "markdown",
   "id": "75e9f333-a180-4597-919c-4c96fbdc4bcc",
   "metadata": {},
   "source": [
    "### Apartado 3.2 A)"
   ]
  },
  {
   "cell_type": "markdown",
   "id": "821bea37-d612-40be-9d7e-ceb4c7d98fb4",
   "metadata": {},
   "source": [
    "a) Usando bucle for y b) usando función sum"
   ]
  },
  {
   "cell_type": "code",
   "execution_count": 7,
   "id": "cfb3e6e8-04d6-464f-a468-4f5865657dd2",
   "metadata": {},
   "outputs": [
    {
     "name": "stdout",
     "output_type": "stream",
     "text": [
      "Time taken by using for loop: 0.20399832725524902 seconds\n",
      "203 ms ± 12.3 ms per loop (mean ± std. dev. of 2 runs, 1 loop each)\n",
      "Time taken by sum function 0.030318021774291992 seconds\n",
      "30.1 ms ± 36.7 µs per loop (mean ± std. dev. of 2 runs, 10 loops each)\n"
     ]
    }
   ],
   "source": [
    "import time\n",
    "N = int(sys.argv[1])\n",
    "lista = list(range(N))\n",
    "# a)\n",
    "#función para suma con bucle for\n",
    "def suma(lista):\n",
    "    x = 0\n",
    "    for i in lista:\n",
    "        x+=i\n",
    "    return x\n",
    "    \n",
    "#Definición de parámetros\n",
    "initialTime = time.time()\n",
    "suma_for = suma(lista)\n",
    "finalTime = time.time()\n",
    "print(\"Time taken by using for loop:\", (finalTime - initialTime), \"seconds\")\n",
    "\n",
    "#usando las funciones magicas de python\n",
    "%timeit -r 2 suma(lista)\n",
    "\n",
    "\n",
    "\n",
    "# b) \n",
    "def suma_sum(lista2):\n",
    "    suma_s = sum(lista2)         \n",
    "    return suma_s\n",
    "#Parámetros\n",
    "lista2 = list(range(N)) \n",
    "initialTime = time.time()    \n",
    "suma_s = suma_sum(lista2)\n",
    "finalTime = time.time()\n",
    "print(\"Time taken by sum function\", (finalTime - initialTime), \"seconds\")\n",
    "\n",
    "%timeit -r 2 suma_sum(lista2)"
   ]
  },
  {
   "cell_type": "markdown",
   "id": "764edaf9-a1fc-4f8e-8339-32fd22d59b10",
   "metadata": {},
   "source": [
    "### Apartado 3.2 B)"
   ]
  },
  {
   "cell_type": "code",
   "execution_count": 12,
   "id": "aa47c33f-1eaf-4573-9745-c658453f36fa",
   "metadata": {},
   "outputs": [
    {
     "name": "stdout",
     "output_type": "stream",
     "text": [
      "Time taken with loop: 0.6750853061676025 seconds\n",
      "651 ms ± 1.5 ms per loop (mean ± std. dev. of 2 runs, 1 loop each)\n",
      "Time taken by sum function: 0.0019197463989257812 seconds\n",
      "1.4 ms ± 8.69 µs per loop (mean ± std. dev. of 2 runs, 1,000 loops each)\n"
     ]
    }
   ],
   "source": [
    "#Se importa la libreria numpy\n",
    "import time\n",
    "import numpy as np\n",
    "lista = list(range(N))\n",
    "array = np.array(lista)\n",
    "\n",
    "# a) suma de los elementos del array con bucle for\n",
    "def suma_forloop(array):\n",
    "    suma = 0\n",
    "    for num in array:\n",
    "        suma += num\n",
    "    return suma\n",
    "\n",
    "initialTime = time.time()\n",
    "sumafor = suma_forloop(array)\n",
    "finalTime = time.time()\n",
    "print(\"Time taken with loop:\", (finalTime - initialTime), \"seconds\")\n",
    "#con funcion magica de python:\n",
    "%timeit -r 2 suma_forloop(array)\n",
    "\n",
    "# b) suma de los elementos del array con sum\n",
    "def suma_sum_numpy(array):\n",
    "    return np.sum(array)\n",
    "\n",
    "# Medir el tiempo usando Numba\n",
    "initialTime = time.time()\n",
    "suma = suma_sum_numpy(array)\n",
    "finalTime = time.time()\n",
    "print(\"Time taken by sum function:\", (finalTime - initialTime), \"seconds\")\n",
    "\n",
    "%timeit -r 2 np.sum(array)"
   ]
  },
  {
   "cell_type": "markdown",
   "id": "615513e3-e7be-40dd-bd23-dc4c91eb8abe",
   "metadata": {},
   "source": [
    "### Apartado 3.2 C)"
   ]
  },
  {
   "cell_type": "markdown",
   "id": "6449d429-f17e-4352-bba1-3dcf53d267d9",
   "metadata": {},
   "source": [
    "En el código original se obtiene bastante tiempo porque se está calculando el tiempo de la realización de un bucle for por lo que puede\n",
    "ser bastante lento sobre todo cuando se trata de sumar valores tan grandes que van desde 0 a 1000000. Al utilizar el time.time el tiempo\n",
    "se calcula de forma imprecisa mientras que la función mágica %timeit que estima dos veces nos da una estimación más real con \n",
    "desviación típica.\n",
    "A continuación, se observa que utilizando listas y ejecutando el mismo proceso anterior el tiempo se reduce un poco, aunque \n",
    "tampoco mucho porque las listas también son bastante lentas. Sin embargo, cuando eliminamos el bucle for en el apartado b, aunque\n",
    "se conserva la lista se reduce significativamente el tiempo de ejecución, esto se debe a que se está usando la función\n",
    "de numpy sum. Eliminando el bucle for python, se ahorra de interpretar cada iteración, verificar el elemento, realizar la suma,etc.\n",
    "Con la funcion sum nos ahorramos todo este proceso, aunque aplicado sobre listas sigue siendo un poco bajo el rendimiento.\n",
    "Es por eso que se utilizan en el siguiente apartado los arrays, ya que en un array, Numpy vectoriza las operaciones,\n",
    "lo que significa que puede aprovechar las optimizaciones a nivel de hardware, como los registros de CPU y la paralelización en\n",
    "múltiples núcleos de procesamiento. Aún así, se puede ver que en el apartado 3.2 b. a. el tiempo aumenta considerablemente (mucho\n",
    "más que el original) esto es porque se está usando un bucle for de python y ala vez Numpy, lo cual es contradictorio y limita el potenical de numpy.\n",
    "Finalmente, cuando se quita este bucle for en el apartado b. se puede comprobar que se obtiene el menor tiempo de todas las pruebas,\n",
    "ya que se está usando arrays y Numpy, que es lo más eficiente."
   ]
  },
  {
   "cell_type": "markdown",
   "id": "8e8cab71-f13e-495f-9274-b5f55b060968",
   "metadata": {},
   "source": [
    "### Apartado 3.3 a)"
   ]
  },
  {
   "cell_type": "code",
   "execution_count": null,
   "id": "89cb7f84-87f3-4d6c-b319-7548f204a129",
   "metadata": {
    "scrolled": true
   },
   "outputs": [],
   "source": [
    "#Se importa la libreria numpy\n",
    "import time\n",
    "import numpy as np\n",
    "from numba import njit\n",
    "lista = list(range(N))\n",
    "array = np.array(lista)\n",
    "\n",
    "# a) suma de los elementos del array con bucle for decorando con @njit\n",
    "@njit\n",
    "def suma_forloop(array):\n",
    "    suma = 0\n",
    "    for num in array:\n",
    "        suma += num\n",
    "    return suma\n",
    "\n",
    "initialTime = time.time()\n",
    "sumafor = suma_forloop(array)\n",
    "finalTime = time.time()\n",
    "print(\"Time taken with loop:\", (finalTime - initialTime), \"seconds\")\n",
    "#con funcion magica de python:\n",
    "%timeit -r 2 suma_forloop(array)\n",
    "\n",
    "# b) suma de los elementos del array con sum decorando con @njit\n",
    "@njit\n",
    "def suma_sum_numpy(array):\n",
    "    return np.sum(array)\n",
    "\n",
    "# Medir el tiempo usando Numba\n",
    "initialTime = time.time()\n",
    "suma = suma_sum_numpy(array)\n",
    "finalTime = time.time()\n",
    "print(\"Time taken by sum function:\", (finalTime - initialTime), \"seconds\")\n",
    "\n",
    "%timeit -r 2 suma_sum_numpy(array)\n"
   ]
  },
  {
   "cell_type": "markdown",
   "id": "a9e7e609-f937-4f84-8791-edd4ac7b7f0c",
   "metadata": {},
   "source": [
    "### Apartado 3.3 b)"
   ]
  },
  {
   "cell_type": "markdown",
   "id": "922686c5-f355-447a-826f-b4947c23f78f",
   "metadata": {},
   "source": [
    "Con la implementación del paquete numba y el decorador @njit se pueden observar los siguientes resultados:\n",
    "-Una reducción de tiempo en la ejecución de la suma con bucle for con respecto al apartado 3.2 b, lo cual\n",
    "es lógico ya que @njit, mejora significativamente el rendimiento de los bucles for porque elimina la sobrecarga\n",
    "de interpretación de Python, optimiza el código y lo convierte en instrucciones nativas que la CPU puede ejecutar de manera más eficiente.\n",
    "-En el segundo resultado, con la función sum, podemos ver lo que parecen discrepancias pero no lo son.\n",
    "Nos da un menor tiempo de ejecución en el apartado 3.2 con respecto al 3.3 midiendo el tiempo con time.time(), esto\n",
    "se debe a que time.time(), en el apartado 3.3 está midiendo también el tiempo de compilación de @njit, \n",
    "mientras %time mide el tiempo promedio de ejecuciones repetidas, por lo que no se tendría en cuenta el tiempo de ejecución.\n"
   ]
  },
  {
   "cell_type": "code",
   "execution_count": null,
   "id": "55617785-79f7-4a58-bec6-64081df03ea7",
   "metadata": {},
   "outputs": [],
   "source": []
  }
 ],
 "metadata": {
  "kernelspec": {
   "display_name": "Python 3 (ipykernel)",
   "language": "python",
   "name": "python3"
  },
  "language_info": {
   "codemirror_mode": {
    "name": "ipython",
    "version": 3
   },
   "file_extension": ".py",
   "mimetype": "text/x-python",
   "name": "python",
   "nbconvert_exporter": "python",
   "pygments_lexer": "ipython3",
   "version": "3.10.9"
  }
 },
 "nbformat": 4,
 "nbformat_minor": 5
}
