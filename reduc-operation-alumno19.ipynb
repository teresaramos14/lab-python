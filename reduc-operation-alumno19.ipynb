{
 "cells": [
  {
   "cell_type": "markdown",
   "id": "f942d288-be01-42cd-9b84-83529c6769be",
   "metadata": {},
   "source": [
    "### Reduction operation: the sum of the numbers in the range [0, a)"
   ]
  },
  {
   "cell_type": "code",
   "execution_count": 15,
   "id": "496946fa-2a28-4c1d-8a6a-2ee0b8fd8ced",
   "metadata": {},
   "outputs": [
    {
     "name": "stdout",
     "output_type": "stream",
     "text": [
      "Time taken by reduction operation: 0.2787892818450928 seconds\n",
      "273 ms ± 3.83 ms per loop (mean ± std. dev. of 2 runs, 1 loop each)\n",
      "\n",
      " \t Computing the sum of numbers in the range [0, value): 499999500000\n",
      "\n"
     ]
    }
   ],
   "source": [
    "import time\n",
    "\n",
    "def reduc_operation(a):\n",
    "    \"\"\"Compute the sum of the numbers in the range [0, a).\"\"\"\n",
    "    x = 0\n",
    "    for i in range(a):\n",
    "        x += i\n",
    "    return x\n",
    "\n",
    "# Secuencial\n",
    "\n",
    "value = 1000000\n",
    "\n",
    "initialTime = time.time()\n",
    "suma = reduc_operation(value)\n",
    "finalTime = time.time()\n",
    "\n",
    "print(\"Time taken by reduction operation:\", (finalTime - initialTime), \"seconds\")\n",
    "\n",
    "# Utilizando las operaciones mágicas de ipython\n",
    "%timeit -r 2 reduc_operation(value)\n",
    "\n",
    "print(f\"\\n \\t Computing the sum of numbers in the range [0, value): {suma}\\n\")"
   ]
  },
  {
   "cell_type": "markdown",
   "id": "75e9f333-a180-4597-919c-4c96fbdc4bcc",
   "metadata": {},
   "source": [
    "Apartado 3.2 A)"
   ]
  },
  {
   "cell_type": "markdown",
   "id": "821bea37-d612-40be-9d7e-ceb4c7d98fb4",
   "metadata": {},
   "source": [
    "a) Usando bucle for y b) usando función sum"
   ]
  },
  {
   "cell_type": "code",
   "execution_count": 22,
   "id": "cfb3e6e8-04d6-464f-a468-4f5865657dd2",
   "metadata": {},
   "outputs": [
    {
     "name": "stdout",
     "output_type": "stream",
     "text": [
      "Time taken by using for loop: 0.22584033012390137 seconds\n",
      "208 ms ± 3.2 ms per loop (mean ± std. dev. of 2 runs, 1 loop each)\n",
      "Time taken by sum function 0.03026270866394043 seconds\n",
      "30.2 ms ± 149 µs per loop (mean ± std. dev. of 2 runs, 10 loops each)\n"
     ]
    }
   ],
   "source": [
    "import time\n",
    "# a)\n",
    "#función para suma con bucle for\n",
    "def suma(lista):\n",
    "    x = 0\n",
    "    for i in lista:\n",
    "        x+=i\n",
    "    return x\n",
    "    \n",
    "#Definición de parámetros\n",
    "lista = list(range(10**6))\n",
    "initialTime = time.time()\n",
    "suma_for = suma(lista)\n",
    "finalTime = time.time()\n",
    "print(\"Time taken by using for loop:\", (finalTime - initialTime), \"seconds\")\n",
    "\n",
    "#usando las funciones magicas de python\n",
    "%timeit -r 2 suma(lista)\n",
    "\n",
    "\n",
    "\n",
    "# b) \n",
    "def suma_sum(lista2):\n",
    "    suma_s = sum(lista2)         \n",
    "    return suma_s\n",
    "#Parámetros\n",
    "lista2 = list(range(10**6)) \n",
    "initialTime = time.time()    \n",
    "suma_s = suma_sum(lista2)\n",
    "finalTime = time.time()\n",
    "print(\"Time taken by sum function\", (finalTime - initialTime), \"seconds\")\n",
    "\n",
    "%timeit -r 2 suma_sum(lista2)"
   ]
  },
  {
   "cell_type": "markdown",
   "id": "764edaf9-a1fc-4f8e-8339-32fd22d59b10",
   "metadata": {},
   "source": [
    "Apartado 3.2 B)"
   ]
  },
  {
   "cell_type": "code",
   "execution_count": 23,
   "id": "aa47c33f-1eaf-4573-9745-c658453f36fa",
   "metadata": {},
   "outputs": [
    {
     "name": "stdout",
     "output_type": "stream",
     "text": [
      "Time taken with loop: 0.9380514621734619 seconds\n",
      "718 ms ± 898 µs per loop (mean ± std. dev. of 2 runs, 1 loop each)\n",
      "Time taken by sum function: 0.002192974090576172 seconds\n",
      "1.41 ms ± 2.67 µs per loop (mean ± std. dev. of 2 runs, 1,000 loops each)\n"
     ]
    }
   ],
   "source": [
    "#Se importa la libreria numpy\n",
    "import time\n",
    "import numpy as np\n",
    "array = np.array(lista)\n",
    "\n",
    "# a) suma de los elementos del array con bucle for\n",
    "start_time = time.time()\n",
    "suma = 0\n",
    "for num in array:\n",
    "    suma += num\n",
    "finalTime = time.time()\n",
    "print(\"Time taken with loop:\", (finalTime - start_time), \"seconds\")\n",
    "\n",
    "#con funcion magica de python:\n",
    "%timeit -r 2 suma = 0; [suma := suma + num for num in array]\n",
    "\n",
    "# b) suma de los elementos del array con sum\n",
    "initialTime = time.time()\n",
    "suma = np.sum(array)\n",
    "finalTime = time.time()\n",
    "print(\"Time taken by sum function:\", (finalTime - initialTime), \"seconds\")\n",
    "\n",
    "%timeit -r 2 np.sum(array)"
   ]
  },
  {
   "cell_type": "markdown",
   "id": "615513e3-e7be-40dd-bd23-dc4c91eb8abe",
   "metadata": {},
   "source": [
    "Apartado 3.2 C)"
   ]
  },
  {
   "cell_type": "code",
   "execution_count": null,
   "id": "b1b6ad77-b948-499c-9163-ed0448d9cc8b",
   "metadata": {},
   "outputs": [],
   "source": [
    "En el código original se obtiene bastante tiempo porque se está calculando el tiempo de la realización de un bucle for por lo que puede\n",
    "ser bastante lento sobre todo cuando se trata de sumar valores tan grandes que van desde 0 a 1000000. Al utilizar el time.time el tiempo\n",
    "se calcula de forma imprecisa mientras que la función mágica %timeit que estima dos veces nos da una estimación más real con \n",
    "desviación típica.\n",
    "A continuación, se observa que utilizando listas y ejecutando el mismo proceso anterior el tiempo se reduce un poco, aunque \n",
    "tampoco mucho porque las listas también son bastante lentas. Sin embargo, cuando eliminamos el bucle for en el apartado b, aunque\n",
    "se conserva la lista se reduce significativamente el tiempo de ejecución, esto se debe a que se está usando la función\n",
    "de numpy sum. Eliminando el bucle for python, se ahorra de interpretar cada iteración, verificar el elemento, realizar la suma,etc.\n",
    "Con la funcion sum nos ahorramos todo este proceso, aunque aplicado sobre listas sigue siendo un poco bajo el rendimiento.\n",
    "Es por eso que se utilizan en el siguiente apartado los arrays, ya que en un array, Numpy vectoriza las operaciones,\n",
    "lo que significa que puede aprovechar las optimizaciones a nivel de hardware, como los registros de CPU y la paralelización en\n",
    "múltiples núcleos de procesamiento. Aún así, se puede ver que en el apartado 3.2 b) a) el tiempo aumenta considerablemente (mucho\n",
    "más que el original) esto es porque se está usando un bucle for de python y ala vez Numpy, lo cual es contradictorio y limita el potenical de numpy.\n",
    "Finalmente, cuando se quita este bucle for en el apartado b) se puede comprobar que se obtiene el menor tiempo de todas las pruebas,\n",
    "ya que se está usando arrays y Numpy, que es lo más eficiente."
   ]
  }
 ],
 "metadata": {
  "kernelspec": {
   "display_name": "Python 3 (ipykernel)",
   "language": "python",
   "name": "python3"
  },
  "language_info": {
   "codemirror_mode": {
    "name": "ipython",
    "version": 3
   },
   "file_extension": ".py",
   "mimetype": "text/x-python",
   "name": "python",
   "nbconvert_exporter": "python",
   "pygments_lexer": "ipython3",
   "version": "3.10.9"
  }
 },
 "nbformat": 4,
 "nbformat_minor": 5
}
